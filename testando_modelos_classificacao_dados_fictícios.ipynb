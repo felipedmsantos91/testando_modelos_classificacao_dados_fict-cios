{
 "cells": [
  {
   "cell_type": "markdown",
   "metadata": {},
   "source": [
    "# Modelos de Classificação\n",
    "\n",
    "Nosso objetivo é criar modelos de classificação com dados fictícios."
   ]
  },
  {
   "cell_type": "markdown",
   "metadata": {},
   "source": [
    "Importando as bibliotecas de analise e visualização de dados"
   ]
  },
  {
   "cell_type": "code",
   "execution_count": 1,
   "metadata": {},
   "outputs": [],
   "source": [
    "from sklearn.model_selection import cross_val_predict\n",
    "import pandas as pd\n",
    "import seaborn as sns\n",
    "import matplotlib.pyplot as plt\n",
    "import numpy as np\n",
    "import warnings\n",
    "warnings.filterwarnings('ignore')\n",
    "%matplotlib inline"
   ]
  },
  {
   "cell_type": "markdown",
   "metadata": {},
   "source": [
    "Carregando a base de dados"
   ]
  },
  {
   "cell_type": "code",
   "execution_count": 3,
   "metadata": {},
   "outputs": [],
   "source": [
    "dfPoints = pd.read_csv(\"df_points.txt\", delimiter=\"\\t\")"
   ]
  },
  {
   "cell_type": "markdown",
   "metadata": {},
   "source": [
    "## Análise Explanatória de Dados "
   ]
  },
  {
   "cell_type": "markdown",
   "metadata": {},
   "source": [
    "Verificando os atributos"
   ]
  },
  {
   "cell_type": "code",
   "execution_count": 3,
   "metadata": {},
   "outputs": [
    {
     "data": {
      "text/html": [
       "<div>\n",
       "<style scoped>\n",
       "    .dataframe tbody tr th:only-of-type {\n",
       "        vertical-align: middle;\n",
       "    }\n",
       "\n",
       "    .dataframe tbody tr th {\n",
       "        vertical-align: top;\n",
       "    }\n",
       "\n",
       "    .dataframe thead th {\n",
       "        text-align: right;\n",
       "    }\n",
       "</style>\n",
       "<table border=\"1\" class=\"dataframe\">\n",
       "  <thead>\n",
       "    <tr style=\"text-align: right;\">\n",
       "      <th></th>\n",
       "      <th>Unnamed: 0</th>\n",
       "      <th>x</th>\n",
       "      <th>y</th>\n",
       "      <th>z</th>\n",
       "      <th>label</th>\n",
       "    </tr>\n",
       "  </thead>\n",
       "  <tbody>\n",
       "    <tr>\n",
       "      <th>0</th>\n",
       "      <td>0</td>\n",
       "      <td>326.488285</td>\n",
       "      <td>188.988808</td>\n",
       "      <td>-312.205307</td>\n",
       "      <td>0.0</td>\n",
       "    </tr>\n",
       "    <tr>\n",
       "      <th>1</th>\n",
       "      <td>1</td>\n",
       "      <td>-314.287214</td>\n",
       "      <td>307.276723</td>\n",
       "      <td>-179.037412</td>\n",
       "      <td>1.0</td>\n",
       "    </tr>\n",
       "    <tr>\n",
       "      <th>2</th>\n",
       "      <td>2</td>\n",
       "      <td>-328.208910</td>\n",
       "      <td>181.627758</td>\n",
       "      <td>446.311062</td>\n",
       "      <td>1.0</td>\n",
       "    </tr>\n",
       "    <tr>\n",
       "      <th>3</th>\n",
       "      <td>3</td>\n",
       "      <td>-148.658890</td>\n",
       "      <td>147.027947</td>\n",
       "      <td>-27.477959</td>\n",
       "      <td>1.0</td>\n",
       "    </tr>\n",
       "    <tr>\n",
       "      <th>4</th>\n",
       "      <td>4</td>\n",
       "      <td>-467.065931</td>\n",
       "      <td>250.467651</td>\n",
       "      <td>-306.475330</td>\n",
       "      <td>1.0</td>\n",
       "    </tr>\n",
       "  </tbody>\n",
       "</table>\n",
       "</div>"
      ],
      "text/plain": [
       "   Unnamed: 0           x           y           z  label\n",
       "0           0  326.488285  188.988808 -312.205307    0.0\n",
       "1           1 -314.287214  307.276723 -179.037412    1.0\n",
       "2           2 -328.208910  181.627758  446.311062    1.0\n",
       "3           3 -148.658890  147.027947  -27.477959    1.0\n",
       "4           4 -467.065931  250.467651 -306.475330    1.0"
      ]
     },
     "execution_count": 3,
     "metadata": {},
     "output_type": "execute_result"
    }
   ],
   "source": [
    "dfPoints.head()"
   ]
  },
  {
   "cell_type": "code",
   "execution_count": 4,
   "metadata": {},
   "outputs": [
    {
     "name": "stdout",
     "output_type": "stream",
     "text": [
      "<class 'pandas.core.frame.DataFrame'>\n",
      "RangeIndex: 10000 entries, 0 to 9999\n",
      "Data columns (total 5 columns):\n",
      " #   Column      Non-Null Count  Dtype  \n",
      "---  ------      --------------  -----  \n",
      " 0   Unnamed: 0  10000 non-null  int64  \n",
      " 1   x           10000 non-null  float64\n",
      " 2   y           10000 non-null  float64\n",
      " 3   z           10000 non-null  float64\n",
      " 4   label       10000 non-null  float64\n",
      "dtypes: float64(4), int64(1)\n",
      "memory usage: 390.8 KB\n"
     ]
    }
   ],
   "source": [
    "dfPoints.info()"
   ]
  },
  {
   "cell_type": "code",
   "execution_count": 5,
   "metadata": {},
   "outputs": [
    {
     "data": {
      "text/html": [
       "<div>\n",
       "<style scoped>\n",
       "    .dataframe tbody tr th:only-of-type {\n",
       "        vertical-align: middle;\n",
       "    }\n",
       "\n",
       "    .dataframe tbody tr th {\n",
       "        vertical-align: top;\n",
       "    }\n",
       "\n",
       "    .dataframe thead th {\n",
       "        text-align: right;\n",
       "    }\n",
       "</style>\n",
       "<table border=\"1\" class=\"dataframe\">\n",
       "  <thead>\n",
       "    <tr style=\"text-align: right;\">\n",
       "      <th></th>\n",
       "      <th>x</th>\n",
       "      <th>y</th>\n",
       "      <th>z</th>\n",
       "    </tr>\n",
       "  </thead>\n",
       "  <tbody>\n",
       "    <tr>\n",
       "      <th>count</th>\n",
       "      <td>10000.000000</td>\n",
       "      <td>10000.000000</td>\n",
       "      <td>10000.000000</td>\n",
       "    </tr>\n",
       "    <tr>\n",
       "      <th>mean</th>\n",
       "      <td>0.850362</td>\n",
       "      <td>-3.108769</td>\n",
       "      <td>-2.601124</td>\n",
       "    </tr>\n",
       "    <tr>\n",
       "      <th>std</th>\n",
       "      <td>288.379928</td>\n",
       "      <td>287.120263</td>\n",
       "      <td>290.379789</td>\n",
       "    </tr>\n",
       "    <tr>\n",
       "      <th>min</th>\n",
       "      <td>-499.802348</td>\n",
       "      <td>-499.899134</td>\n",
       "      <td>-499.952571</td>\n",
       "    </tr>\n",
       "    <tr>\n",
       "      <th>25%</th>\n",
       "      <td>-249.199895</td>\n",
       "      <td>-248.954580</td>\n",
       "      <td>-258.005693</td>\n",
       "    </tr>\n",
       "    <tr>\n",
       "      <th>50%</th>\n",
       "      <td>3.663472</td>\n",
       "      <td>-5.446168</td>\n",
       "      <td>-8.221000</td>\n",
       "    </tr>\n",
       "    <tr>\n",
       "      <th>75%</th>\n",
       "      <td>248.879970</td>\n",
       "      <td>244.395864</td>\n",
       "      <td>252.930406</td>\n",
       "    </tr>\n",
       "    <tr>\n",
       "      <th>max</th>\n",
       "      <td>499.872453</td>\n",
       "      <td>499.752418</td>\n",
       "      <td>499.872329</td>\n",
       "    </tr>\n",
       "  </tbody>\n",
       "</table>\n",
       "</div>"
      ],
      "text/plain": [
       "                  x             y             z\n",
       "count  10000.000000  10000.000000  10000.000000\n",
       "mean       0.850362     -3.108769     -2.601124\n",
       "std      288.379928    287.120263    290.379789\n",
       "min     -499.802348   -499.899134   -499.952571\n",
       "25%     -249.199895   -248.954580   -258.005693\n",
       "50%        3.663472     -5.446168     -8.221000\n",
       "75%      248.879970    244.395864    252.930406\n",
       "max      499.872453    499.752418    499.872329"
      ]
     },
     "execution_count": 5,
     "metadata": {},
     "output_type": "execute_result"
    }
   ],
   "source": [
    "dfPoints[['x','y','z']].describe()"
   ]
  },
  {
   "cell_type": "markdown",
   "metadata": {},
   "source": [
    "A coluna Unnamed:0 pode ser eliminada pois não tem importância para a análise. Vamos eliminá-la"
   ]
  },
  {
   "cell_type": "code",
   "execution_count": 6,
   "metadata": {},
   "outputs": [
    {
     "data": {
      "text/html": [
       "<div>\n",
       "<style scoped>\n",
       "    .dataframe tbody tr th:only-of-type {\n",
       "        vertical-align: middle;\n",
       "    }\n",
       "\n",
       "    .dataframe tbody tr th {\n",
       "        vertical-align: top;\n",
       "    }\n",
       "\n",
       "    .dataframe thead th {\n",
       "        text-align: right;\n",
       "    }\n",
       "</style>\n",
       "<table border=\"1\" class=\"dataframe\">\n",
       "  <thead>\n",
       "    <tr style=\"text-align: right;\">\n",
       "      <th></th>\n",
       "      <th>x</th>\n",
       "      <th>y</th>\n",
       "      <th>z</th>\n",
       "      <th>label</th>\n",
       "    </tr>\n",
       "  </thead>\n",
       "  <tbody>\n",
       "    <tr>\n",
       "      <th>0</th>\n",
       "      <td>326.488285</td>\n",
       "      <td>188.988808</td>\n",
       "      <td>-312.205307</td>\n",
       "      <td>0.0</td>\n",
       "    </tr>\n",
       "    <tr>\n",
       "      <th>1</th>\n",
       "      <td>-314.287214</td>\n",
       "      <td>307.276723</td>\n",
       "      <td>-179.037412</td>\n",
       "      <td>1.0</td>\n",
       "    </tr>\n",
       "    <tr>\n",
       "      <th>2</th>\n",
       "      <td>-328.208910</td>\n",
       "      <td>181.627758</td>\n",
       "      <td>446.311062</td>\n",
       "      <td>1.0</td>\n",
       "    </tr>\n",
       "    <tr>\n",
       "      <th>3</th>\n",
       "      <td>-148.658890</td>\n",
       "      <td>147.027947</td>\n",
       "      <td>-27.477959</td>\n",
       "      <td>1.0</td>\n",
       "    </tr>\n",
       "    <tr>\n",
       "      <th>4</th>\n",
       "      <td>-467.065931</td>\n",
       "      <td>250.467651</td>\n",
       "      <td>-306.475330</td>\n",
       "      <td>1.0</td>\n",
       "    </tr>\n",
       "  </tbody>\n",
       "</table>\n",
       "</div>"
      ],
      "text/plain": [
       "            x           y           z  label\n",
       "0  326.488285  188.988808 -312.205307    0.0\n",
       "1 -314.287214  307.276723 -179.037412    1.0\n",
       "2 -328.208910  181.627758  446.311062    1.0\n",
       "3 -148.658890  147.027947  -27.477959    1.0\n",
       "4 -467.065931  250.467651 -306.475330    1.0"
      ]
     },
     "execution_count": 6,
     "metadata": {},
     "output_type": "execute_result"
    }
   ],
   "source": [
    "dfPoints.drop('Unnamed: 0', axis=1, inplace=True)\n",
    "dfPoints.head()"
   ]
  },
  {
   "cell_type": "markdown",
   "metadata": {},
   "source": [
    "Criando um parplot com o matiz definido pelo recurso de coluna 'label'"
   ]
  },
  {
   "cell_type": "code",
   "execution_count": 7,
   "metadata": {},
   "outputs": [
    {
     "data": {
      "text/plain": [
       "<seaborn.axisgrid.PairGrid at 0x7f18c1781cd0>"
      ]
     },
     "execution_count": 7,
     "metadata": {},
     "output_type": "execute_result"
    },
    {
     "data": {
      "image/png": "[encoded data removed]",
      "text/plain": [
       "<Figure size 591.875x540 with 12 Axes>"
      ]
     },
     "metadata": {
      "needs_background": "light"
     },
     "output_type": "display_data"
    }
   ],
   "source": [
    "sns.pairplot(dfPoints,hue='label',palette='bwr')"
   ]
  },
  {
   "cell_type": "markdown",
   "metadata": {},
   "source": [
    "As classes tendem a ter a mesma distribuição em cada característica.\n",
    "Vemos também que o nosso dataset não possue dados faltantes."
   ]
  },
  {
   "cell_type": "markdown",
   "metadata": {},
   "source": [
    "## Usando o Modelo de Regressão Logística"
   ]
  },
  {
   "cell_type": "markdown",
   "metadata": {},
   "source": [
    "Vamos começar dividindo nossos dados em um conjunto de treinamento e conjunto de testes."
   ]
  },
  {
   "cell_type": "code",
   "execution_count": 8,
   "metadata": {},
   "outputs": [],
   "source": [
    "from sklearn.model_selection import train_test_split\n",
    "X_train, X_test, y_train, y_test = train_test_split(dfPoints.drop('label',axis=1),dfPoints['label'],test_size=0.2)"
   ]
  },
  {
   "cell_type": "markdown",
   "metadata": {},
   "source": [
    "Verificando a forma dos dados"
   ]
  },
  {
   "cell_type": "code",
   "execution_count": 9,
   "metadata": {},
   "outputs": [
    {
     "data": {
      "text/plain": [
       "((8000, 3), (2000, 3))"
      ]
     },
     "execution_count": 9,
     "metadata": {},
     "output_type": "execute_result"
    }
   ],
   "source": [
    "X_train.shape,X_test.shape"
   ]
  },
  {
   "cell_type": "code",
   "execution_count": 10,
   "metadata": {},
   "outputs": [
    {
     "data": {
      "text/plain": [
       "((8000,), (2000,))"
      ]
     },
     "execution_count": 10,
     "metadata": {},
     "output_type": "execute_result"
    }
   ],
   "source": [
    "y_train.shape,y_test.shape"
   ]
  },
  {
   "cell_type": "markdown",
   "metadata": {},
   "source": [
    "Instânciando o Algoritmo de Regressão Logística"
   ]
  },
  {
   "cell_type": "code",
   "execution_count": 11,
   "metadata": {},
   "outputs": [],
   "source": [
    "from sklearn.linear_model import LogisticRegression\n",
    "logmodel = LogisticRegression()"
   ]
  },
  {
   "cell_type": "markdown",
   "metadata": {},
   "source": [
    "Treinando o Algoritmo"
   ]
  },
  {
   "cell_type": "code",
   "execution_count": 12,
   "metadata": {},
   "outputs": [
    {
     "data": {
      "text/plain": [
       "LogisticRegression(C=1.0, class_weight=None, dual=False, fit_intercept=True,\n",
       "          intercept_scaling=1, max_iter=100, multi_class='warn',\n",
       "          n_jobs=None, penalty='l2', random_state=None, solver='warn',\n",
       "          tol=0.0001, verbose=0, warm_start=False)"
      ]
     },
     "execution_count": 12,
     "metadata": {},
     "output_type": "execute_result"
    }
   ],
   "source": [
    "logmodel.fit(X_train,y_train)"
   ]
  },
  {
   "cell_type": "markdown",
   "metadata": {},
   "source": [
    "Executando a Regressão Logístiva com o conjunto de teste"
   ]
  },
  {
   "cell_type": "code",
   "execution_count": 13,
   "metadata": {},
   "outputs": [
    {
     "data": {
      "text/plain": [
       "array([1., 1., 0., ..., 1., 1., 0.])"
      ]
     },
     "execution_count": 13,
     "metadata": {},
     "output_type": "execute_result"
    }
   ],
   "source": [
    "predictionslg = logmodel.predict(X_test)\n",
    "\n",
    "#os resultados das predições serão\n",
    "predictionslg"
   ]
  },
  {
   "cell_type": "markdown",
   "metadata": {},
   "source": [
    "Vamos as Técnicas de Validação"
   ]
  },
  {
   "cell_type": "code",
   "execution_count": 14,
   "metadata": {},
   "outputs": [
    {
     "name": "stdout",
     "output_type": "stream",
     "text": [
      "          Predito  0.0   1.0   All\n",
      "Real                              \n",
      "0.0                483   517  1000\n",
      "1.0                369   631  1000\n",
      "All                852  1148  2000\n"
     ]
    }
   ],
   "source": [
    "#Matriz de confusão\n",
    "print (pd.crosstab(y_test,predictionslg, rownames=['Real'], colnames=['          Predito'], margins=True))"
   ]
  },
  {
   "cell_type": "code",
   "execution_count": 15,
   "metadata": {},
   "outputs": [],
   "source": [
    "# pela matriz de confusão vemos que o modelo se saiu mal para classificar a classe 0."
   ]
  },
  {
   "cell_type": "code",
   "execution_count": 16,
   "metadata": {},
   "outputs": [
    {
     "name": "stdout",
     "output_type": "stream",
     "text": [
      "              precision    recall  f1-score   support\n",
      "\n",
      "         0.0       0.57      0.48      0.52      1000\n",
      "         1.0       0.55      0.63      0.59      1000\n",
      "\n",
      "   micro avg       0.56      0.56      0.56      2000\n",
      "   macro avg       0.56      0.56      0.55      2000\n",
      "weighted avg       0.56      0.56      0.55      2000\n",
      "\n"
     ]
    }
   ],
   "source": [
    "#Métricas de Classificação\n",
    "from sklearn import metrics\n",
    "print(metrics.classification_report(y_test,predictionslg))"
   ]
  },
  {
   "cell_type": "code",
   "execution_count": 17,
   "metadata": {},
   "outputs": [
    {
     "data": {
      "text/plain": [
       "0.5579"
      ]
     },
     "execution_count": 17,
     "metadata": {},
     "output_type": "execute_result"
    }
   ],
   "source": [
    "#Validação Cruzada\n",
    "from sklearn.model_selection import cross_val_score\n",
    "def Acuracia(clf,X,y):\n",
    "    resultados = cross_val_predict(clf, X, y, cv=5)\n",
    "    return metrics.accuracy_score(y,resultados)\n",
    "\n",
    "Acuracia(logmodel,dfPoints[['x','y','z']],dfPoints['label'])"
   ]
  },
  {
   "cell_type": "code",
   "execution_count": null,
   "metadata": {},
   "outputs": [],
   "source": []
  },
  {
   "cell_type": "markdown",
   "metadata": {},
   "source": [
    "### Otimizando o valor do parâmetro C"
   ]
  },
  {
   "cell_type": "code",
   "execution_count": 18,
   "metadata": {},
   "outputs": [],
   "source": [
    "# Importando o GridSearch\n",
    "from sklearn.model_selection import GridSearchCV"
   ]
  },
  {
   "cell_type": "code",
   "execution_count": 19,
   "metadata": {},
   "outputs": [
    {
     "data": {
      "text/plain": [
       "{'C': [0.01, 0.1, 1.0, 1.01, 1.1, 2]}"
      ]
     },
     "execution_count": 19,
     "metadata": {},
     "output_type": "execute_result"
    }
   ],
   "source": [
    "# Definindo a lista de valores para o parâmetro \n",
    "c_list = [0.01,0.1,1.0,1.01,1.1,2]\n",
    "c_values = dict(C=c_list)\n",
    "c_values"
   ]
  },
  {
   "cell_type": "code",
   "execution_count": 20,
   "metadata": {},
   "outputs": [],
   "source": [
    "# Instânciando o objeto GridSearch\n",
    "grid = GridSearchCV(logmodel, c_values, cv=5, scoring='accuracy')"
   ]
  },
  {
   "cell_type": "code",
   "execution_count": 21,
   "metadata": {},
   "outputs": [
    {
     "data": {
      "text/plain": [
       "GridSearchCV(cv=5, error_score='raise-deprecating',\n",
       "       estimator=LogisticRegression(C=1.0, class_weight=None, dual=False, fit_intercept=True,\n",
       "          intercept_scaling=1, max_iter=100, multi_class='warn',\n",
       "          n_jobs=None, penalty='l2', random_state=None, solver='warn',\n",
       "          tol=0.0001, verbose=0, warm_start=False),\n",
       "       fit_params=None, iid='warn', n_jobs=None,\n",
       "       param_grid={'C': [0.01, 0.1, 1.0, 1.01, 1.1, 2]},\n",
       "       pre_dispatch='2*n_jobs', refit=True, return_train_score='warn',\n",
       "       scoring='accuracy', verbose=0)"
      ]
     },
     "execution_count": 21,
     "metadata": {},
     "output_type": "execute_result"
    }
   ],
   "source": [
    "# Treinando o objeto\n",
    "grid.fit(dfPoints.drop('label',axis=1),dfPoints['label'])"
   ]
  },
  {
   "cell_type": "code",
   "execution_count": 22,
   "metadata": {},
   "outputs": [
    {
     "name": "stdout",
     "output_type": "stream",
     "text": [
      "Melhor valor de k = {'C': 0.01} com o valor 0.5585 de acurácia\n"
     ]
    }
   ],
   "source": [
    "#Visualizando os valores de scores\n",
    "print(\"Melhor valor de k = {} com o valor {} de acurácia\".format(grid.best_params_,grid.best_score_))"
   ]
  },
  {
   "cell_type": "code",
   "execution_count": 23,
   "metadata": {},
   "outputs": [
    {
     "name": "stdout",
     "output_type": "stream",
     "text": [
      "0.558(+/-0.023) for {'C': 0.01}\n",
      "0.558(+/-0.021) for {'C': 0.1}\n",
      "0.558(+/-0.021) for {'C': 1.0}\n",
      "0.558(+/-0.021) for {'C': 1.01}\n",
      "0.558(+/-0.021) for {'C': 1.1}\n",
      "0.558(+/-0.021) for {'C': 2}\n"
     ]
    }
   ],
   "source": [
    "# Visualização dos valores de C e acurácia\n",
    "\n",
    "#imprindo os scores por combinações \n",
    "results = grid.cv_results_\n",
    "means = results['mean_test_score']\n",
    "stds = results['std_test_score']\n",
    "scores=[]\n",
    "for mean,std,params in zip(means,stds,results['params']):\n",
    "    print(\"%0.3f(+/-%0.03f) for %r\"%(mean,std*2,params))\n",
    "    scores.append(mean)"
   ]
  },
  {
   "cell_type": "code",
   "execution_count": 24,
   "metadata": {},
   "outputs": [
    {
     "data": {
      "image/png": "[encoded data removed]",
      "text/plain": [
       "<Figure size 720x432 with 1 Axes>"
      ]
     },
     "metadata": {
      "needs_background": "light"
     },
     "output_type": "display_data"
    }
   ],
   "source": [
    "#plotando os resultados acuracia com a lista de C's\n",
    "plt.figure(figsize=(10,6))\n",
    "plt.plot(c_list,scores,color='red',linestyle='dashed',marker='o')\n",
    "plt.xlabel('C')\n",
    "plt.ylabel('accuracy')\n",
    "plt.show()"
   ]
  },
  {
   "cell_type": "code",
   "execution_count": 25,
   "metadata": {},
   "outputs": [
    {
     "data": {
      "text/plain": [
       "array([1., 1., 0., ..., 1., 1., 0.])"
      ]
     },
     "execution_count": 25,
     "metadata": {},
     "output_type": "execute_result"
    }
   ],
   "source": [
    "#Repetindo os processos de treino e teste, agora com C=0.01\n",
    "from sklearn.linear_model import LogisticRegression\n",
    "logmodel = LogisticRegression(C=0.01)\n",
    "\n",
    "#treino\n",
    "logmodel.fit(X_train,y_train)\n",
    "\n",
    "#teste\n",
    "predictionslogmodel = logmodel.predict(X_test)\n",
    "\n",
    "#resultados\n",
    "predictionslogmodel"
   ]
  },
  {
   "cell_type": "code",
   "execution_count": 26,
   "metadata": {},
   "outputs": [
    {
     "name": "stdout",
     "output_type": "stream",
     "text": [
      "              precision    recall  f1-score   support\n",
      "\n",
      "         0.0       0.57      0.49      0.52      1000\n",
      "         1.0       0.55      0.63      0.59      1000\n",
      "\n",
      "   micro avg       0.56      0.56      0.56      2000\n",
      "   macro avg       0.56      0.56      0.55      2000\n",
      "weighted avg       0.56      0.56      0.55      2000\n",
      "\n"
     ]
    }
   ],
   "source": [
    "#Avaliando o modelo por Métricas de Classificação\n",
    "from sklearn import metrics\n",
    "print(metrics.classification_report(y_test,predictionslogmodel))"
   ]
  },
  {
   "cell_type": "markdown",
   "metadata": {},
   "source": [
    "### Teste de Overfitting para Regressão Logística"
   ]
  },
  {
   "cell_type": "code",
   "execution_count": 27,
   "metadata": {},
   "outputs": [
    {
     "data": {
      "text/plain": [
       "0.5565"
      ]
     },
     "execution_count": 27,
     "metadata": {},
     "output_type": "execute_result"
    }
   ],
   "source": [
    "#Resultados de predição\n",
    "y_p = logmodel.predict(X_test)\n",
    "\n",
    "#Acurácia\n",
    "metrics.accuracy_score(y_test,y_p)"
   ]
  },
  {
   "cell_type": "code",
   "execution_count": 28,
   "metadata": {},
   "outputs": [
    {
     "data": {
      "text/plain": [
       "0.556875"
      ]
     },
     "execution_count": 28,
     "metadata": {},
     "output_type": "execute_result"
    }
   ],
   "source": [
    "#Testando a classificação com os próprios valores de treino\n",
    "\n",
    "#Resultados de predição\n",
    "y_p = logmodel.predict(X_train)\n",
    "\n",
    "#Acurácia\n",
    "metrics.accuracy_score(y_train,y_p)"
   ]
  },
  {
   "cell_type": "code",
   "execution_count": null,
   "metadata": {},
   "outputs": [],
   "source": []
  },
  {
   "cell_type": "markdown",
   "metadata": {},
   "source": [
    "O modelo de regressão logística não possui overffiting, entretanto, ele se saiu mal para fazer a classificação. Vamos aplicar outro modelo e ver conseguimos um resultado melhor."
   ]
  },
  {
   "cell_type": "code",
   "execution_count": null,
   "metadata": {},
   "outputs": [],
   "source": []
  },
  {
   "cell_type": "markdown",
   "metadata": {},
   "source": [
    "## Usando o Modelo KNN (K vizinhos próximos)"
   ]
  },
  {
   "cell_type": "markdown",
   "metadata": {},
   "source": [
    "Vamos começar dividindo nossos dados em um conjunto de treinamento e conjunto de testes."
   ]
  },
  {
   "cell_type": "code",
   "execution_count": 83,
   "metadata": {},
   "outputs": [],
   "source": [
    "from sklearn.model_selection import train_test_split\n",
    "X_train, X_test, y_train, y_test = train_test_split(dfPoints.drop('label',axis=1),dfPoints['label'],test_size=0.2,random_state=5)"
   ]
  },
  {
   "cell_type": "markdown",
   "metadata": {},
   "source": [
    "Verificando a forma dos dados"
   ]
  },
  {
   "cell_type": "code",
   "execution_count": 84,
   "metadata": {},
   "outputs": [
    {
     "data": {
      "text/plain": [
       "((8000, 3), (2000, 3))"
      ]
     },
     "execution_count": 84,
     "metadata": {},
     "output_type": "execute_result"
    }
   ],
   "source": [
    "X_train.shape,X_test.shape"
   ]
  },
  {
   "cell_type": "code",
   "execution_count": 85,
   "metadata": {},
   "outputs": [
    {
     "data": {
      "text/plain": [
       "((8000,), (2000,))"
      ]
     },
     "execution_count": 85,
     "metadata": {},
     "output_type": "execute_result"
    }
   ],
   "source": [
    "y_train.shape,y_test.shape"
   ]
  },
  {
   "cell_type": "markdown",
   "metadata": {},
   "source": [
    "Instânciando o Algoritmo de KNN"
   ]
  },
  {
   "cell_type": "code",
   "execution_count": 88,
   "metadata": {},
   "outputs": [],
   "source": [
    "#Utilizando como teste o número de k = 3\n",
    "from sklearn.neighbors import KNeighborsClassifier\n",
    "knn = KNeighborsClassifier(n_neighbors=3)"
   ]
  },
  {
   "cell_type": "markdown",
   "metadata": {},
   "source": [
    "Treinando o Algoritmo"
   ]
  },
  {
   "cell_type": "code",
   "execution_count": 89,
   "metadata": {},
   "outputs": [
    {
     "data": {
      "text/plain": [
       "KNeighborsClassifier(algorithm='auto', leaf_size=30, metric='minkowski',\n",
       "           metric_params=None, n_jobs=None, n_neighbors=3, p=2,\n",
       "           weights='uniform')"
      ]
     },
     "execution_count": 89,
     "metadata": {},
     "output_type": "execute_result"
    }
   ],
   "source": [
    "knn.fit(X_train,y_train)"
   ]
  },
  {
   "cell_type": "markdown",
   "metadata": {},
   "source": [
    "Executando a Regressão Logístiva com o conjunto de teste"
   ]
  },
  {
   "cell_type": "code",
   "execution_count": 96,
   "metadata": {},
   "outputs": [
    {
     "data": {
      "text/plain": [
       "array([0., 0., 0., ..., 1., 1., 0.])"
      ]
     },
     "execution_count": 96,
     "metadata": {},
     "output_type": "execute_result"
    }
   ],
   "source": [
    "predictionsknn = knn.predict(X_test)\n",
    "\n",
    "#resultados\n",
    "predictionknn"
   ]
  },
  {
   "cell_type": "markdown",
   "metadata": {},
   "source": [
    "Vamos as Técnicas de Validação"
   ]
  },
  {
   "cell_type": "code",
   "execution_count": 97,
   "metadata": {},
   "outputs": [
    {
     "name": "stdout",
     "output_type": "stream",
     "text": [
      "          Predito   0.0  1.0   All\n",
      "Real                              \n",
      "0.0                 732  285  1017\n",
      "1.0                 275  708   983\n",
      "All                1007  993  2000\n"
     ]
    }
   ],
   "source": [
    "#Matriz de confusão\n",
    "print (pd.crosstab(y_test,predictionsknn, rownames=['Real'], colnames=['          Predito'], margins=True))"
   ]
  },
  {
   "cell_type": "code",
   "execution_count": 99,
   "metadata": {},
   "outputs": [
    {
     "name": "stdout",
     "output_type": "stream",
     "text": [
      "              precision    recall  f1-score   support\n",
      "\n",
      "         0.0       0.73      0.72      0.72      1017\n",
      "         1.0       0.71      0.72      0.72       983\n",
      "\n",
      "   micro avg       0.72      0.72      0.72      2000\n",
      "   macro avg       0.72      0.72      0.72      2000\n",
      "weighted avg       0.72      0.72      0.72      2000\n",
      "\n"
     ]
    }
   ],
   "source": [
    "#Métricas de Classificação\n",
    "from sklearn import metrics\n",
    "print(metrics.classification_report(y_test,predictionsknn))"
   ]
  },
  {
   "cell_type": "code",
   "execution_count": 110,
   "metadata": {},
   "outputs": [
    {
     "data": {
      "text/plain": [
       "0.723"
      ]
     },
     "execution_count": 110,
     "metadata": {},
     "output_type": "execute_result"
    }
   ],
   "source": [
    "#Validação Cruzada\n",
    "from sklearn.model_selection import cross_val_score\n",
    "def Acuracia(clf,X,y):\n",
    "    resultados = cross_val_predict(clf, X, y, cv=10)\n",
    "    return metrics.accuracy_score(y,resultados)\n",
    "\n",
    "Acuracia(knn,dfPoints[['x','y','z']],dfPoints['label'])"
   ]
  },
  {
   "cell_type": "code",
   "execution_count": 105,
   "metadata": {},
   "outputs": [],
   "source": [
    "#o melhor valor de acuracia, usando k = 3, e de 72.3 %. Vamos otimizar o valor de k."
   ]
  },
  {
   "cell_type": "markdown",
   "metadata": {},
   "source": [
    "### Otimizando o valor de K"
   ]
  },
  {
   "cell_type": "code",
   "execution_count": 106,
   "metadata": {},
   "outputs": [],
   "source": [
    "# Importando o GridSearch\n",
    "from sklearn.model_selection import GridSearchCV"
   ]
  },
  {
   "cell_type": "code",
   "execution_count": 117,
   "metadata": {},
   "outputs": [
    {
     "data": {
      "text/plain": [
       "{'n_neighbors': [1,\n",
       "  2,\n",
       "  3,\n",
       "  4,\n",
       "  5,\n",
       "  6,\n",
       "  7,\n",
       "  8,\n",
       "  9,\n",
       "  10,\n",
       "  11,\n",
       "  12,\n",
       "  13,\n",
       "  14,\n",
       "  15,\n",
       "  16,\n",
       "  17,\n",
       "  18,\n",
       "  19,\n",
       "  20,\n",
       "  21,\n",
       "  22,\n",
       "  23,\n",
       "  24,\n",
       "  25,\n",
       "  26,\n",
       "  27,\n",
       "  28,\n",
       "  29,\n",
       "  30,\n",
       "  31,\n",
       "  32,\n",
       "  33,\n",
       "  34,\n",
       "  35,\n",
       "  36,\n",
       "  37,\n",
       "  38,\n",
       "  39,\n",
       "  40]}"
      ]
     },
     "execution_count": 117,
     "metadata": {},
     "output_type": "execute_result"
    }
   ],
   "source": [
    "# Definindo a lista de valores para o parâmetro \n",
    "k_list = list(range(1,41))\n",
    "k_values = dict(n_neighbors=k_list)\n",
    "k_values"
   ]
  },
  {
   "cell_type": "code",
   "execution_count": 118,
   "metadata": {},
   "outputs": [],
   "source": [
    "# Instânciando o objeto GridSearch\n",
    "grid = GridSearchCV(knn, k_values, cv=5, scoring='accuracy')"
   ]
  },
  {
   "cell_type": "code",
   "execution_count": 119,
   "metadata": {},
   "outputs": [
    {
     "data": {
      "text/plain": [
       "GridSearchCV(cv=5, error_score='raise-deprecating',\n",
       "       estimator=KNeighborsClassifier(algorithm='auto', leaf_size=30, metric='minkowski',\n",
       "           metric_params=None, n_jobs=None, n_neighbors=3, p=2,\n",
       "           weights='uniform'),\n",
       "       fit_params=None, iid='warn', n_jobs=None,\n",
       "       param_grid={'n_neighbors': [1, 2, 3, 4, 5, 6, 7, 8, 9, 10, 11, 12, 13, 14, 15, 16, 17, 18, 19, 20, 21, 22, 23, 24, 25, 26, 27, 28, 29, 30, 31, 32, 33, 34, 35, 36, 37, 38, 39, 40]},\n",
       "       pre_dispatch='2*n_jobs', refit=True, return_train_score='warn',\n",
       "       scoring='accuracy', verbose=0)"
      ]
     },
     "execution_count": 119,
     "metadata": {},
     "output_type": "execute_result"
    }
   ],
   "source": [
    "# Treinando o objeto\n",
    "grid.fit(dfPoints.drop('label',axis=1),dfPoints['label'])"
   ]
  },
  {
   "cell_type": "code",
   "execution_count": 120,
   "metadata": {},
   "outputs": [
    {
     "name": "stdout",
     "output_type": "stream",
     "text": [
      "Melhor valor de k = {'n_neighbors': 40} com o valor 0.7707 de acurácia\n"
     ]
    }
   ],
   "source": [
    "#Visualizando os valores de scores\n",
    "print(\"Melhor valor de k = {} com o valor {} de acurácia\".format(grid.best_params_,grid.best_score_))"
   ]
  },
  {
   "cell_type": "code",
   "execution_count": 121,
   "metadata": {},
   "outputs": [
    {
     "name": "stdout",
     "output_type": "stream",
     "text": [
      "0.681(+/-0.020) for {'n_neighbors': 1}\n",
      "0.671(+/-0.024) for {'n_neighbors': 2}\n",
      "0.720(+/-0.017) for {'n_neighbors': 3}\n",
      "0.721(+/-0.019) for {'n_neighbors': 4}\n",
      "0.740(+/-0.012) for {'n_neighbors': 5}\n",
      "0.741(+/-0.014) for {'n_neighbors': 6}\n",
      "0.749(+/-0.013) for {'n_neighbors': 7}\n",
      "0.749(+/-0.019) for {'n_neighbors': 8}\n",
      "0.758(+/-0.013) for {'n_neighbors': 9}\n",
      "0.756(+/-0.015) for {'n_neighbors': 10}\n",
      "0.759(+/-0.014) for {'n_neighbors': 11}\n",
      "0.759(+/-0.013) for {'n_neighbors': 12}\n",
      "0.764(+/-0.011) for {'n_neighbors': 13}\n",
      "0.763(+/-0.010) for {'n_neighbors': 14}\n",
      "0.766(+/-0.013) for {'n_neighbors': 15}\n",
      "0.763(+/-0.012) for {'n_neighbors': 16}\n",
      "0.765(+/-0.011) for {'n_neighbors': 17}\n",
      "0.764(+/-0.013) for {'n_neighbors': 18}\n",
      "0.766(+/-0.009) for {'n_neighbors': 19}\n",
      "0.767(+/-0.013) for {'n_neighbors': 20}\n",
      "0.766(+/-0.014) for {'n_neighbors': 21}\n",
      "0.764(+/-0.014) for {'n_neighbors': 22}\n",
      "0.767(+/-0.013) for {'n_neighbors': 23}\n",
      "0.766(+/-0.010) for {'n_neighbors': 24}\n",
      "0.768(+/-0.010) for {'n_neighbors': 25}\n",
      "0.767(+/-0.010) for {'n_neighbors': 26}\n",
      "0.766(+/-0.007) for {'n_neighbors': 27}\n",
      "0.767(+/-0.006) for {'n_neighbors': 28}\n",
      "0.768(+/-0.009) for {'n_neighbors': 29}\n",
      "0.768(+/-0.008) for {'n_neighbors': 30}\n",
      "0.770(+/-0.009) for {'n_neighbors': 31}\n",
      "0.769(+/-0.005) for {'n_neighbors': 32}\n",
      "0.768(+/-0.008) for {'n_neighbors': 33}\n",
      "0.769(+/-0.007) for {'n_neighbors': 34}\n",
      "0.768(+/-0.008) for {'n_neighbors': 35}\n",
      "0.770(+/-0.008) for {'n_neighbors': 36}\n",
      "0.769(+/-0.006) for {'n_neighbors': 37}\n",
      "0.769(+/-0.006) for {'n_neighbors': 38}\n",
      "0.769(+/-0.008) for {'n_neighbors': 39}\n",
      "0.771(+/-0.006) for {'n_neighbors': 40}\n"
     ]
    }
   ],
   "source": [
    "# Visualização dos valores de K e acurácia\n",
    "\n",
    "#imprindo os scores por combinações \n",
    "results = grid.cv_results_\n",
    "means = results['mean_test_score']\n",
    "stds = results['std_test_score']\n",
    "scores=[]\n",
    "for mean,std,params in zip(means,stds,results['params']):\n",
    "    print(\"%0.3f(+/-%0.03f) for %r\"%(mean,std*2,params))\n",
    "    scores.append(mean)"
   ]
  },
  {
   "cell_type": "code",
   "execution_count": 122,
   "metadata": {},
   "outputs": [
    {
     "data": {
      "image/png": "[encoded data removed]",
      "text/plain": [
       "<Figure size 720x432 with 1 Axes>"
      ]
     },
     "metadata": {
      "needs_background": "light"
     },
     "output_type": "display_data"
    }
   ],
   "source": [
    "#plotando os resultados acuracia com a lista de k's\n",
    "plt.figure(figsize=(10,6))\n",
    "plt.plot(k_list,scores,color='red',linestyle='dashed',marker='o')\n",
    "plt.xlabel('k')\n",
    "plt.ylabel('accuracy')\n",
    "plt.show()"
   ]
  },
  {
   "cell_type": "markdown",
   "metadata": {},
   "source": [
    "A partir de K = 13 vemos que a acurácia se estabilizou em mais ou menos 76.5%.\n",
    "Vamos escolher o valor de K = 30 para nosso modelo final."
   ]
  },
  {
   "cell_type": "code",
   "execution_count": 123,
   "metadata": {},
   "outputs": [
    {
     "data": {
      "text/plain": [
       "array([0., 0., 0., ..., 1., 1., 0.])"
      ]
     },
     "execution_count": 123,
     "metadata": {},
     "output_type": "execute_result"
    }
   ],
   "source": [
    "#Repetindo os processos de treino e teste, agora com K=30\n",
    "from sklearn.neighbors import KNeighborsClassifier\n",
    "knn = KNeighborsClassifier(n_neighbors=30)\n",
    "\n",
    "#treino\n",
    "knn.fit(X_train,y_train)\n",
    "\n",
    "#teste\n",
    "predictionsknn = knn.predict(X_test)\n",
    "\n",
    "#resultados\n",
    "predictionknn"
   ]
  },
  {
   "cell_type": "code",
   "execution_count": 124,
   "metadata": {},
   "outputs": [
    {
     "name": "stdout",
     "output_type": "stream",
     "text": [
      "              precision    recall  f1-score   support\n",
      "\n",
      "         0.0       0.76      0.79      0.77      1017\n",
      "         1.0       0.77      0.75      0.76       983\n",
      "\n",
      "   micro avg       0.77      0.77      0.77      2000\n",
      "   macro avg       0.77      0.77      0.77      2000\n",
      "weighted avg       0.77      0.77      0.77      2000\n",
      "\n"
     ]
    }
   ],
   "source": [
    "#Avaliando o modelo por Métricas de Classificação\n",
    "from sklearn import metrics\n",
    "print(metrics.classification_report(y_test,predictionsknn))"
   ]
  },
  {
   "cell_type": "markdown",
   "metadata": {},
   "source": [
    "### Teste de Overfitting para KNN"
   ]
  },
  {
   "cell_type": "markdown",
   "metadata": {},
   "source": [
    "Vamos utilizar os X_train e X_test em predictionsknn para avaliar se existe overffiting dado K = 30"
   ]
  },
  {
   "cell_type": "code",
   "execution_count": 125,
   "metadata": {},
   "outputs": [
    {
     "data": {
      "text/plain": [
       "0.7675"
      ]
     },
     "execution_count": 125,
     "metadata": {},
     "output_type": "execute_result"
    }
   ],
   "source": [
    "#Resultados de predição\n",
    "y_p = knn.predict(X_test)\n",
    "\n",
    "#Acurácia\n",
    "metrics.accuracy_score(y_test,y_p)"
   ]
  },
  {
   "cell_type": "code",
   "execution_count": 126,
   "metadata": {},
   "outputs": [
    {
     "data": {
      "text/plain": [
       "0.779625"
      ]
     },
     "execution_count": 126,
     "metadata": {},
     "output_type": "execute_result"
    }
   ],
   "source": [
    "#Testando a classificação com os próprios valores de treino\n",
    "\n",
    "#Resultados de predição\n",
    "y_p = knn.predict(X_train)\n",
    "\n",
    "#Acurácia\n",
    "metrics.accuracy_score(y_train,y_p)"
   ]
  },
  {
   "cell_type": "markdown",
   "metadata": {},
   "source": [
    "Desta forma, vemos que nosso algorítmo de KNN, com K = 30, não está sofrendo de overffiting, pois a acurácia vinda dos dados de treino (que naturalmente é maior) e a acurácia vinda dos dados de teste não se diferenciam muito."
   ]
  },
  {
   "cell_type": "markdown",
   "metadata": {},
   "source": [
    "Portando, percebe-se que o modelo de KNN pode ser usado com mais confiança para classificação do que o modelo de Regressão Logística."
   ]
  },
  {
   "cell_type": "code",
   "execution_count": null,
   "metadata": {},
   "outputs": [],
   "source": []
  }
 ],
 "metadata": {
  "kernelspec": {
   "display_name": "Python 3",
   "language": "python",
   "name": "python3"
  },
  "language_info": {
   "codemirror_mode": {
    "name": "ipython",
    "version": 3
   },
   "file_extension": ".py",
   "mimetype": "text/x-python",
   "name": "python",
   "nbconvert_exporter": "python",
   "pygments_lexer": "ipython3",
   "version": "3.8.3"
  }
 },
 "nbformat": 4,
 "nbformat_minor": 2
}
